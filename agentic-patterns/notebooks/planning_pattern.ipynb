{
 "cells": [
  {
   "cell_type": "code",
   "execution_count": 1,
   "id": "dfb689f9",
   "metadata": {},
   "outputs": [],
   "source": [
    "import os\n",
    "import re\n",
    "import math\n",
    "import json\n",
    "\n",
    "from pprint import pprint\n",
    "from ollama import Client as OllamaClient\n",
    "\n",
    "from agentic_patterns.tool_pattern.tool import tool\n",
    "from agentic_patterns.utils.extraction import extract_tag_content\n",
    "\n",
    "MODEL  = \"llama3.2:3b\"\n",
    "CLIENT = OllamaClient()"
   ]
  },
  {
   "cell_type": "code",
   "execution_count": 2,
   "id": "030eac32",
   "metadata": {},
   "outputs": [],
   "source": [
    "# Define the System Prompt as a constant\n",
    "REACT_SYSTEM_PROMPT = \"\"\"\n",
    "You are a function calling AI model. You operate by running a loop with the following steps: Thought, Action, Observation.\n",
    "You are provided with function signatures within <tools></tools> XML tags.\n",
    "You may call one or more functions to assist with the user query. Don' make assumptions about what values to plug\n",
    "into functions. Pay special attention to the properties 'types'. You should use those types as in a Python dict.\n",
    "\n",
    "For each function call return a json object with function name and arguments within <tool_call></tool_call> XML tags as follows:\n",
    "\n",
    "<tool_call>\n",
    "{\"name\": <function-name>,\"arguments\": <args-dict>, \"id\": <monotonically-increasing-id>}\n",
    "</tool_call>\n",
    "\n",
    "Here are the available tools / actions:\n",
    "\n",
    "<tools> \n",
    "%s\n",
    "</tools>\n",
    "\n",
    "Example session:\n",
    "\n",
    "<question>What's the current temperature in Madrid?</question>\n",
    "<thought>I need to get the current weather in Madrid</thought>\n",
    "<tool_call>{\"name\": \"get_current_weather\",\"arguments\": {\"location\": \"Madrid\", \"unit\": \"celsius\"}, \"id\": 0}</tool_call>\n",
    "\n",
    "You will be called again with this:\n",
    "\n",
    "<observation>{0: {\"temperature\": 25, \"unit\": \"celsius\"}}</observation>\n",
    "\n",
    "You then output:\n",
    "\n",
    "<response>The current temperature in Madrid is 25 degrees Celsius</response>\n",
    "\n",
    "Additional constraints:\n",
    "\n",
    "- If the user asks you something unrelated to any of the tools above, answer freely enclosing your answer with <response></response> tags.\n",
    "\"\"\""
   ]
  },
  {
   "cell_type": "code",
   "execution_count": 3,
   "id": "82647824",
   "metadata": {},
   "outputs": [],
   "source": [
    "@tool\n",
    "def sum_two_elements(a: int, b: int) -> int:\n",
    "    \"\"\"\n",
    "    Computes the sum of two integers.\n",
    "\n",
    "    Args:\n",
    "        a (int): The first integer to be summed.\n",
    "        b (int): The second integer to be summed.\n",
    "\n",
    "    Returns:\n",
    "        int: The sum of `a` and `b`.\n",
    "    \"\"\"\n",
    "    return a + b\n",
    "\n",
    "\n",
    "@tool\n",
    "def multiply_two_elements(a: int, b: int) -> int:\n",
    "    \"\"\"\n",
    "    Multiplies two integers.\n",
    "\n",
    "    Args:\n",
    "        a (int): The first integer to multiply.\n",
    "        b (int): The second integer to multiply.\n",
    "\n",
    "    Returns:\n",
    "        int: The product of `a` and `b`.\n",
    "    \"\"\"\n",
    "    return a * b\n",
    "\n",
    "@tool\n",
    "def compute_log(x: int) -> float | str:\n",
    "    \"\"\"\n",
    "    Computes the logarithm of an integer `x` with an optional base.\n",
    "\n",
    "    Args:\n",
    "        x (int): The integer value for which the logarithm is computed. Must be greater than 0.\n",
    "\n",
    "    Returns:\n",
    "        float: The logarithm of `x` to the specified `base`.\n",
    "    \"\"\"\n",
    "    if x <= 0:\n",
    "        return \"Logarithm is undefined for values less than or equal to 0.\"\n",
    "    \n",
    "    return math.log(x)\n",
    "\n",
    "\n",
    "available_tools = {\n",
    "    \"sum_two_elements\": sum_two_elements,\n",
    "    \"multiply_two_elements\": multiply_two_elements,\n",
    "    \"compute_log\": compute_log\n",
    "}"
   ]
  },
  {
   "cell_type": "code",
   "execution_count": 4,
   "id": "76d42092",
   "metadata": {},
   "outputs": [
    {
     "data": {
      "text/plain": [
       "'sum_two_elements'"
      ]
     },
     "execution_count": 4,
     "metadata": {},
     "output_type": "execute_result"
    }
   ],
   "source": [
    "sum_two_elements.name"
   ]
  },
  {
   "cell_type": "code",
   "execution_count": 5,
   "id": "f967c5b2",
   "metadata": {},
   "outputs": [
    {
     "name": "stdout",
     "output_type": "stream",
     "text": [
      "('{\"name\": \"sum_two_elements\", \"description\": \"\\\\n    Computes the sum of two '\n",
      " 'integers.\\\\n\\\\n    Args:\\\\n        a (int): The first integer to be '\n",
      " 'summed.\\\\n        b (int): The second integer to be summed.\\\\n\\\\n    '\n",
      " 'Returns:\\\\n        int: The sum of `a` and `b`.\\\\n    \", \"parameters\": '\n",
      " '{\"properties\": {\"a\": {\"type\": \"int\"}, \"b\": {\"type\": \"int\"}}}}')\n"
     ]
    }
   ],
   "source": [
    "pprint(sum_two_elements.fn_signature)"
   ]
  },
  {
   "cell_type": "code",
   "execution_count": 6,
   "id": "771aaaad",
   "metadata": {},
   "outputs": [],
   "source": [
    "tools_signature = \"\"\n",
    "for tk, tv in available_tools.items():\n",
    "    tools_signature += tv.fn_signature + \",\\n\"\n",
    "\n",
    "# tools_signature = sum_two_elements.fn_signature + \",\\n\" + multiply_two_elements.fn_signature + \",\\n\" + compute_log.fn_signature"
   ]
  },
  {
   "cell_type": "code",
   "execution_count": 7,
   "id": "668c2192",
   "metadata": {},
   "outputs": [
    {
     "name": "stdout",
     "output_type": "stream",
     "text": [
      "('{\"name\": \"sum_two_elements\", \"description\": \"\\\\n    Computes the sum of two '\n",
      " 'integers.\\\\n\\\\n    Args:\\\\n        a (int): The first integer to be '\n",
      " 'summed.\\\\n        b (int): The second integer to be summed.\\\\n\\\\n    '\n",
      " 'Returns:\\\\n        int: The sum of `a` and `b`.\\\\n    \", \"parameters\": '\n",
      " '{\"properties\": {\"a\": {\"type\": \"int\"}, \"b\": {\"type\": \"int\"}}}},\\n'\n",
      " '{\"name\": \"multiply_two_elements\", \"description\": \"\\\\n    Multiplies two '\n",
      " 'integers.\\\\n\\\\n    Args:\\\\n        a (int): The first integer to '\n",
      " 'multiply.\\\\n        b (int): The second integer to multiply.\\\\n\\\\n    '\n",
      " 'Returns:\\\\n        int: The product of `a` and `b`.\\\\n    \", \"parameters\": '\n",
      " '{\"properties\": {\"a\": {\"type\": \"int\"}, \"b\": {\"type\": \"int\"}}}},\\n'\n",
      " '{\"name\": \"compute_log\", \"description\": \"\\\\n    Computes the logarithm of an '\n",
      " 'integer `x` with an optional base.\\\\n\\\\n    Args:\\\\n        x (int): The '\n",
      " 'integer value for which the logarithm is computed. Must be greater than '\n",
      " '0.\\\\n\\\\n    Returns:\\\\n        float: The logarithm of `x` to the specified '\n",
      " '`base`.\\\\n    \", \"parameters\": {\"properties\": {\"x\": {\"type\": \"int\"}}}},\\n')\n"
     ]
    }
   ],
   "source": [
    "pprint(tools_signature)"
   ]
  },
  {
   "cell_type": "code",
   "execution_count": 8,
   "id": "13e71272",
   "metadata": {},
   "outputs": [],
   "source": [
    "REACT_SYSTEM_PROMPT = REACT_SYSTEM_PROMPT % tools_signature"
   ]
  },
  {
   "cell_type": "code",
   "execution_count": 9,
   "id": "93649d01",
   "metadata": {},
   "outputs": [
    {
     "name": "stdout",
     "output_type": "stream",
     "text": [
      "\n",
      "You are a function calling AI model. You operate by running a loop with the following steps: Thought, Action, Observation.\n",
      "You are provided with function signatures within <tools></tools> XML tags.\n",
      "You may call one or more functions to assist with the user query. Don' make assumptions about what values to plug\n",
      "into functions. Pay special attention to the properties 'types'. You should use those types as in a Python dict.\n",
      "\n",
      "For each function call return a json object with function name and arguments within <tool_call></tool_call> XML tags as follows:\n",
      "\n",
      "<tool_call>\n",
      "{\"name\": <function-name>,\"arguments\": <args-dict>, \"id\": <monotonically-increasing-id>}\n",
      "</tool_call>\n",
      "\n",
      "Here are the available tools / actions:\n",
      "\n",
      "<tools> \n",
      "{\"name\": \"sum_two_elements\", \"description\": \"\\n    Computes the sum of two integers.\\n\\n    Args:\\n        a (int): The first integer to be summed.\\n        b (int): The second integer to be summed.\\n\\n    Returns:\\n        int: The sum of `a` and `b`.\\n    \", \"parameters\": {\"properties\": {\"a\": {\"type\": \"int\"}, \"b\": {\"type\": \"int\"}}}},\n",
      "{\"name\": \"multiply_two_elements\", \"description\": \"\\n    Multiplies two integers.\\n\\n    Args:\\n        a (int): The first integer to multiply.\\n        b (int): The second integer to multiply.\\n\\n    Returns:\\n        int: The product of `a` and `b`.\\n    \", \"parameters\": {\"properties\": {\"a\": {\"type\": \"int\"}, \"b\": {\"type\": \"int\"}}}},\n",
      "{\"name\": \"compute_log\", \"description\": \"\\n    Computes the logarithm of an integer `x` with an optional base.\\n\\n    Args:\\n        x (int): The integer value for which the logarithm is computed. Must be greater than 0.\\n\\n    Returns:\\n        float: The logarithm of `x` to the specified `base`.\\n    \", \"parameters\": {\"properties\": {\"x\": {\"type\": \"int\"}}}},\n",
      "\n",
      "</tools>\n",
      "\n",
      "Example session:\n",
      "\n",
      "<question>What's the current temperature in Madrid?</question>\n",
      "<thought>I need to get the current weather in Madrid</thought>\n",
      "<tool_call>{\"name\": \"get_current_weather\",\"arguments\": {\"location\": \"Madrid\", \"unit\": \"celsius\"}, \"id\": 0}</tool_call>\n",
      "\n",
      "You will be called again with this:\n",
      "\n",
      "<observation>{0: {\"temperature\": 25, \"unit\": \"celsius\"}}</observation>\n",
      "\n",
      "You then output:\n",
      "\n",
      "<response>The current temperature in Madrid is 25 degrees Celsius</response>\n",
      "\n",
      "Additional constraints:\n",
      "\n",
      "- If the user asks you something unrelated to any of the tools above, answer freely enclosing your answer with <response></response> tags.\n",
      "\n"
     ]
    }
   ],
   "source": [
    "print(REACT_SYSTEM_PROMPT)"
   ]
  },
  {
   "cell_type": "code",
   "execution_count": 10,
   "id": "530f6c06",
   "metadata": {},
   "outputs": [
    {
     "name": "stdout",
     "output_type": "stream",
     "text": [
      "<tool_call>\n",
      "{\"name\": \"sum_two_elements\", \"arguments\": {\"a\": 1234, \"b\": 5678}, \"id\": 1}\n",
      "</tool_call>\n",
      "\n",
      "<tool_call>\n",
      "{\"name\": \"multiply_two_elements\", \"arguments\": {\"a\": 6272, \"b\": 5}, \"id\": 2}\n",
      "</tool_call>\n",
      "\n",
      "<tool_call>\n",
      "{\"name\": \"compute_log\", \"arguments\": {\"x\": 31360}, \"id\": 3}\n",
      "</tool_call>\n"
     ]
    }
   ],
   "source": [
    "# ReAct Loop Step 1\n",
    "USER_QUESTION = \"I want to calculate the sum of 1234 and 5678 and multiply the result by 5. Then, I want to take the logarithm of this result\"\n",
    "chat_history = [\n",
    "    {\n",
    "        \"role\": \"system\",\n",
    "        \"content\": REACT_SYSTEM_PROMPT\n",
    "    },\n",
    "    {\n",
    "        \"role\": \"user\",\n",
    "        \"content\": f\"<question>{USER_QUESTION}</question>\"\n",
    "    }\n",
    "]\n",
    "\n",
    "output = (\n",
    "    CLIENT.chat(\n",
    "        messages=chat_history, \n",
    "        model=MODEL\n",
    "    )\n",
    "    .message.content\n",
    ")\n",
    "\n",
    "print(output)"
   ]
  },
  {
   "cell_type": "code",
   "execution_count": 11,
   "id": "21b25397",
   "metadata": {},
   "outputs": [],
   "source": [
    "chat_history.append(\n",
    "    {\n",
    "        \"role\": \"assistant\",\n",
    "        \"content\": output\n",
    "    }\n",
    ")"
   ]
  },
  {
   "cell_type": "code",
   "execution_count": 12,
   "id": "1159e61c",
   "metadata": {},
   "outputs": [],
   "source": [
    "# ReAct Loop Step 2 \n",
    "tool_call = extract_tag_content(output, tag=\"tool_call\")"
   ]
  },
  {
   "cell_type": "code",
   "execution_count": 13,
   "id": "78426ecd",
   "metadata": {},
   "outputs": [
    {
     "data": {
      "text/plain": [
       "TagContentResult(content=['{\"name\": \"sum_two_elements\", \"arguments\": {\"a\": 1234, \"b\": 5678}, \"id\": 1}', '{\"name\": \"multiply_two_elements\", \"arguments\": {\"a\": 6272, \"b\": 5}, \"id\": 2}', '{\"name\": \"compute_log\", \"arguments\": {\"x\": 31360}, \"id\": 3}'], found=True)"
      ]
     },
     "execution_count": 13,
     "metadata": {},
     "output_type": "execute_result"
    }
   ],
   "source": [
    "tool_call"
   ]
  },
  {
   "cell_type": "code",
   "execution_count": 14,
   "id": "87fa6035",
   "metadata": {},
   "outputs": [
    {
     "data": {
      "text/plain": [
       "{'name': 'sum_two_elements', 'arguments': {'a': 1234, 'b': 5678}, 'id': 1}"
      ]
     },
     "execution_count": 14,
     "metadata": {},
     "output_type": "execute_result"
    }
   ],
   "source": [
    "tool_call = json.loads(tool_call.content[0])\n",
    "\n",
    "tool_call"
   ]
  },
  {
   "cell_type": "code",
   "execution_count": 15,
   "id": "29b84e13",
   "metadata": {},
   "outputs": [],
   "source": [
    "tool_result = available_tools[tool_call[\"name\"]].run(**tool_call[\"arguments\"])"
   ]
  },
  {
   "cell_type": "code",
   "execution_count": 16,
   "id": "b6965853",
   "metadata": {},
   "outputs": [],
   "source": [
    "assert tool_result == 1234 + 5678"
   ]
  },
  {
   "cell_type": "code",
   "execution_count": 17,
   "id": "ac9a4f27",
   "metadata": {},
   "outputs": [],
   "source": [
    "chat_history.append(\n",
    "    {\n",
    "        \"role\": \"user\",\n",
    "        \"content\": f\"<observation>{tool_result}</observation>\"\n",
    "    }\n",
    ")"
   ]
  },
  {
   "cell_type": "code",
   "execution_count": 18,
   "id": "5e647cb8",
   "metadata": {},
   "outputs": [
    {
     "name": "stdout",
     "output_type": "stream",
     "text": [
      "<tool_call>\n",
      "{\"name\": \"multiply_two_elements\", \"arguments\": {\"a\": 6912, \"b\": 5}, \"id\": 4}\n",
      "</tool_call>\n",
      "\n",
      "<tool_call>\n",
      "{\"name\": \"compute_log\", \"arguments\": {\"x\": 34800}, \"id\": 5}\n",
      "</tool_call>\n"
     ]
    }
   ],
   "source": [
    "# ReAct Loop Step 3\n",
    "output = (\n",
    "    CLIENT.chat(\n",
    "        messages=chat_history, \n",
    "        model=MODEL\n",
    "    )\n",
    "    .message.content\n",
    ")\n",
    "\n",
    "print(output)"
   ]
  },
  {
   "cell_type": "code",
   "execution_count": 19,
   "id": "a6fbb7ad",
   "metadata": {},
   "outputs": [],
   "source": [
    "chat_history.append(\n",
    "    {\n",
    "        \"role\": \"assistant\",\n",
    "        \"content\": output\n",
    "    }\n",
    ")"
   ]
  },
  {
   "cell_type": "code",
   "execution_count": 20,
   "id": "00e08386",
   "metadata": {},
   "outputs": [
    {
     "name": "stdout",
     "output_type": "stream",
     "text": [
      "34560 34560\n"
     ]
    }
   ],
   "source": [
    "# ReAct Loop Step 4\n",
    "tool_call = extract_tag_content(output, tag=\"tool_call\")\n",
    "tool_call = json.loads(tool_call.content[0])\n",
    "tool_result = available_tools[tool_call[\"name\"]].run(**tool_call[\"arguments\"])\n",
    "\n",
    "print(tool_result, (1234 + 5678) * 5)\n",
    "\n",
    "assert tool_result == (1234 + 5678) * 5"
   ]
  },
  {
   "cell_type": "code",
   "execution_count": 21,
   "id": "68c1a384",
   "metadata": {},
   "outputs": [],
   "source": [
    "chat_history.append(\n",
    "    {\n",
    "        \"role\": \"user\",\n",
    "        \"content\": f\"<observation>{tool_result}</observation>\"\n",
    "    }\n",
    ")"
   ]
  },
  {
   "cell_type": "code",
   "execution_count": 22,
   "id": "6b5af49d",
   "metadata": {},
   "outputs": [
    {
     "data": {
      "text/plain": [
       "[{'role': 'system',\n",
       "  'content': '\\nYou are a function calling AI model. You operate by running a loop with the following steps: Thought, Action, Observation.\\nYou are provided with function signatures within <tools></tools> XML tags.\\nYou may call one or more functions to assist with the user query. Don\\' make assumptions about what values to plug\\ninto functions. Pay special attention to the properties \\'types\\'. You should use those types as in a Python dict.\\n\\nFor each function call return a json object with function name and arguments within <tool_call></tool_call> XML tags as follows:\\n\\n<tool_call>\\n{\"name\": <function-name>,\"arguments\": <args-dict>, \"id\": <monotonically-increasing-id>}\\n</tool_call>\\n\\nHere are the available tools / actions:\\n\\n<tools> \\n{\"name\": \"sum_two_elements\", \"description\": \"\\\\n    Computes the sum of two integers.\\\\n\\\\n    Args:\\\\n        a (int): The first integer to be summed.\\\\n        b (int): The second integer to be summed.\\\\n\\\\n    Returns:\\\\n        int: The sum of `a` and `b`.\\\\n    \", \"parameters\": {\"properties\": {\"a\": {\"type\": \"int\"}, \"b\": {\"type\": \"int\"}}}},\\n{\"name\": \"multiply_two_elements\", \"description\": \"\\\\n    Multiplies two integers.\\\\n\\\\n    Args:\\\\n        a (int): The first integer to multiply.\\\\n        b (int): The second integer to multiply.\\\\n\\\\n    Returns:\\\\n        int: The product of `a` and `b`.\\\\n    \", \"parameters\": {\"properties\": {\"a\": {\"type\": \"int\"}, \"b\": {\"type\": \"int\"}}}},\\n{\"name\": \"compute_log\", \"description\": \"\\\\n    Computes the logarithm of an integer `x` with an optional base.\\\\n\\\\n    Args:\\\\n        x (int): The integer value for which the logarithm is computed. Must be greater than 0.\\\\n\\\\n    Returns:\\\\n        float: The logarithm of `x` to the specified `base`.\\\\n    \", \"parameters\": {\"properties\": {\"x\": {\"type\": \"int\"}}}},\\n\\n</tools>\\n\\nExample session:\\n\\n<question>What\\'s the current temperature in Madrid?</question>\\n<thought>I need to get the current weather in Madrid</thought>\\n<tool_call>{\"name\": \"get_current_weather\",\"arguments\": {\"location\": \"Madrid\", \"unit\": \"celsius\"}, \"id\": 0}</tool_call>\\n\\nYou will be called again with this:\\n\\n<observation>{0: {\"temperature\": 25, \"unit\": \"celsius\"}}</observation>\\n\\nYou then output:\\n\\n<response>The current temperature in Madrid is 25 degrees Celsius</response>\\n\\nAdditional constraints:\\n\\n- If the user asks you something unrelated to any of the tools above, answer freely enclosing your answer with <response></response> tags.\\n'},\n",
       " {'role': 'user',\n",
       "  'content': '<question>I want to calculate the sum of 1234 and 5678 and multiply the result by 5. Then, I want to take the logarithm of this result</question>'},\n",
       " {'role': 'assistant',\n",
       "  'content': '<tool_call>\\n{\"name\": \"sum_two_elements\", \"arguments\": {\"a\": 1234, \"b\": 5678}, \"id\": 1}\\n</tool_call>\\n\\n<tool_call>\\n{\"name\": \"multiply_two_elements\", \"arguments\": {\"a\": 6272, \"b\": 5}, \"id\": 2}\\n</tool_call>\\n\\n<tool_call>\\n{\"name\": \"compute_log\", \"arguments\": {\"x\": 31360}, \"id\": 3}\\n</tool_call>'},\n",
       " {'role': 'user', 'content': '<observation>6912</observation>'},\n",
       " {'role': 'assistant',\n",
       "  'content': '<tool_call>\\n{\"name\": \"multiply_two_elements\", \"arguments\": {\"a\": 6912, \"b\": 5}, \"id\": 4}\\n</tool_call>\\n\\n<tool_call>\\n{\"name\": \"compute_log\", \"arguments\": {\"x\": 34800}, \"id\": 5}\\n</tool_call>'},\n",
       " {'role': 'user', 'content': '<observation>34560</observation>'}]"
      ]
     },
     "execution_count": 22,
     "metadata": {},
     "output_type": "execute_result"
    }
   ],
   "source": [
    "chat_history"
   ]
  },
  {
   "cell_type": "code",
   "execution_count": 23,
   "id": "d79b0134",
   "metadata": {},
   "outputs": [
    {
     "name": "stdout",
     "output_type": "stream",
     "text": [
      "<response>The logarithm of 34560 is approximately 8.654</response>\n"
     ]
    }
   ],
   "source": [
    "# ReAct Loop Step 5\n",
    "output = (\n",
    "    CLIENT.chat(\n",
    "        messages=chat_history, \n",
    "        model=MODEL\n",
    "    )\n",
    "    .message.content\n",
    ")\n",
    "\n",
    "chat_history.append(\n",
    "    {\n",
    "        \"role\": \"assistant\",\n",
    "        \"content\": output\n",
    "    }\n",
    ")\n",
    "\n",
    "\n",
    "print(output)"
   ]
  },
  {
   "cell_type": "code",
   "execution_count": null,
   "id": "afe28f53",
   "metadata": {},
   "outputs": [
    {
     "ename": "IndexError",
     "evalue": "list index out of range",
     "output_type": "error",
     "traceback": [
      "\u001b[0;31m---------------------------------------------------------------------------\u001b[0m",
      "\u001b[0;31mIndexError\u001b[0m                                Traceback (most recent call last)",
      "Cell \u001b[0;32mIn[24], line 2\u001b[0m\n\u001b[1;32m      1\u001b[0m tool_call \u001b[38;5;241m=\u001b[39m extract_tag_content(output, tag\u001b[38;5;241m=\u001b[39m\u001b[38;5;124m\"\u001b[39m\u001b[38;5;124mtool_call\u001b[39m\u001b[38;5;124m\"\u001b[39m)\n\u001b[0;32m----> 2\u001b[0m tool_call \u001b[38;5;241m=\u001b[39m json\u001b[38;5;241m.\u001b[39mloads(\u001b[43mtool_call\u001b[49m\u001b[38;5;241;43m.\u001b[39;49m\u001b[43mcontent\u001b[49m\u001b[43m[\u001b[49m\u001b[38;5;241;43m0\u001b[39;49m\u001b[43m]\u001b[49m)\n\u001b[1;32m      3\u001b[0m tool_result \u001b[38;5;241m=\u001b[39m available_tools[tool_call[\u001b[38;5;124m\"\u001b[39m\u001b[38;5;124mname\u001b[39m\u001b[38;5;124m\"\u001b[39m]]\u001b[38;5;241m.\u001b[39mrun(\u001b[38;5;241m*\u001b[39m\u001b[38;5;241m*\u001b[39mtool_call[\u001b[38;5;124m\"\u001b[39m\u001b[38;5;124marguments\u001b[39m\u001b[38;5;124m\"\u001b[39m])\n",
      "\u001b[0;31mIndexError\u001b[0m: list index out of range"
     ]
    }
   ],
   "source": [
    "# React Loop Step 6\n",
    "tool_call = extract_tag_content(output, tag=\"tool_call\")\n",
    "tool_call = json.loads(tool_call.content[0])\n",
    "tool_result = available_tools[tool_call[\"name\"]].run(**tool_call[\"arguments\"])"
   ]
  },
  {
   "cell_type": "code",
   "execution_count": null,
   "id": "fcad32ce",
   "metadata": {},
   "outputs": [],
   "source": [
    "assert tool_result == math.log((1234 + 5678) * 5)"
   ]
  },
  {
   "cell_type": "code",
   "execution_count": null,
   "id": "b1bd1edf",
   "metadata": {},
   "outputs": [],
   "source": [
    "chat_history.append(\n",
    "    {\n",
    "        \"role\": \"user\",\n",
    "        \"content\": f\"<observation>{tool_result}</observation>\"\n",
    "    }\n",
    ")"
   ]
  },
  {
   "cell_type": "code",
   "execution_count": null,
   "id": "5bcf6785",
   "metadata": {},
   "outputs": [],
   "source": [
    "# ReAct Loop Step 7\n",
    "output = (\n",
    "    CLIENT.chat(\n",
    "        messages=chat_history, \n",
    "        model=MODEL\n",
    "    )\n",
    "    .message.content\n",
    ")\n",
    "\n",
    "print(output)"
   ]
  }
 ],
 "metadata": {
  "kernelspec": {
   "display_name": ".venv",
   "language": "python",
   "name": "python3"
  },
  "language_info": {
   "codemirror_mode": {
    "name": "ipython",
    "version": 3
   },
   "file_extension": ".py",
   "mimetype": "text/x-python",
   "name": "python",
   "nbconvert_exporter": "python",
   "pygments_lexer": "ipython3",
   "version": "3.10.18"
  }
 },
 "nbformat": 4,
 "nbformat_minor": 5
}
