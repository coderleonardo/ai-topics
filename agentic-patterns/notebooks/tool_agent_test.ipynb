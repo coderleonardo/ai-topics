{
 "cells": [
  {
   "cell_type": "code",
   "execution_count": 1,
   "id": "c4ba6400",
   "metadata": {},
   "outputs": [],
   "source": [
    "import json\n",
    "import requests\n",
    "from pprint import pprint\n",
    "from agentic_patterns.tool_pattern.tool import tool\n",
    "from agentic_patterns.tool_pattern.tool_agent import ToolAgent"
   ]
  },
  {
   "cell_type": "code",
   "execution_count": 2,
   "id": "b8902232",
   "metadata": {},
   "outputs": [],
   "source": [
    "def fetch_top_hacker_news_stories(top_n: int):\n",
    "    \"\"\"\n",
    "    Fetch the top stories from Hacker News.\n",
    "\n",
    "    This function retrieves the top `top_n` stories from Hacker News using the Hacker News API. \n",
    "    Each story contains the title, URL, score, author, and time of submission. The data is fetched \n",
    "    from the official Firebase Hacker News API, which returns story details in JSON format.\n",
    "\n",
    "    Args:\n",
    "        top_n (int): The number of top stories to retrieve.\n",
    "    \"\"\"\n",
    "    top_stories_url = 'https://hacker-news.firebaseio.com/v0/topstories.json'\n",
    "    \n",
    "    try:\n",
    "        response = requests.get(top_stories_url)\n",
    "        response.raise_for_status()  # Check for HTTP errors\n",
    "        \n",
    "        # Get the top story IDs\n",
    "        top_story_ids = response.json()[:top_n]\n",
    "        \n",
    "        top_stories = []\n",
    "        \n",
    "        # For each story ID, fetch the story details\n",
    "        for story_id in top_story_ids:\n",
    "            story_url = f'https://hacker-news.firebaseio.com/v0/item/{story_id}.json'\n",
    "            story_response = requests.get(story_url)\n",
    "            story_response.raise_for_status()  # Check for HTTP errors\n",
    "            story_data = story_response.json()\n",
    "            \n",
    "            # Append the story title and URL (or other relevant info) to the list\n",
    "            top_stories.append({\n",
    "                'title': story_data.get('title', 'No title'),\n",
    "                'url': story_data.get('url', 'No URL available'),\n",
    "            })\n",
    "        \n",
    "        return json.dumps(top_stories)\n",
    "\n",
    "    except requests.exceptions.RequestException as e:\n",
    "        print(f\"An error occurred: {e}\")\n",
    "        return []"
   ]
  },
  {
   "cell_type": "code",
   "execution_count": 3,
   "id": "244d08ad",
   "metadata": {},
   "outputs": [
    {
     "data": {
      "text/plain": [
       "[{'title': \"Everything that's wrong with Google Search in one image\",\n",
       "  'url': 'https://bitbytebit.substack.com/p/everything-thats-wrong-with-google'},\n",
       " {'title': 'Fewer H-1B Visas Did Not Mean More Employment for Natives (2017)',\n",
       "  'url': 'https://www.nber.org/digest/dec17/fewer-h-1b-visas-did-not-mean-more-employment-natives'},\n",
       " {'title': 'Do YC after you graduate: Early decision for students',\n",
       "  'url': 'https://www.ycombinator.com/early-decision'},\n",
       " {'title': 'Quicksort explained IKEA-style',\n",
       "  'url': 'https://idea-instructions.com/quick-sort/'},\n",
       " {'title': 'SonyShell – an effort to \"SSH into my Sony DSLR\"',\n",
       "  'url': 'https://github.com/goudvuur/sonyshell'}]"
      ]
     },
     "execution_count": 3,
     "metadata": {},
     "output_type": "execute_result"
    }
   ],
   "source": [
    "json.loads(fetch_top_hacker_news_stories(top_n=5))"
   ]
  },
  {
   "cell_type": "code",
   "execution_count": 4,
   "id": "8b9b336d",
   "metadata": {},
   "outputs": [],
   "source": [
    "hn_tool = tool(fetch_top_hacker_news_stories)"
   ]
  },
  {
   "cell_type": "code",
   "execution_count": 5,
   "id": "7d3748d4",
   "metadata": {},
   "outputs": [
    {
     "data": {
      "text/plain": [
       "'fetch_top_hacker_news_stories'"
      ]
     },
     "execution_count": 5,
     "metadata": {},
     "output_type": "execute_result"
    }
   ],
   "source": [
    "hn_tool.name"
   ]
  },
  {
   "cell_type": "code",
   "execution_count": 6,
   "metadata": {},
   "outputs": [
    {
     "name": "stdout",
     "output_type": "stream",
     "text": [
      "('{\"name\": \"fetch_top_hacker_news_stories\", \"description\": \"\\\\n    Fetch the '\n",
      " 'top stories from Hacker News.\\\\n\\\\n    This function retrieves the top '\n",
      " '`top_n` stories from Hacker News using the Hacker News API. \\\\n    Each '\n",
      " 'story contains the title, URL, score, author, and time of submission. The '\n",
      " 'data is fetched \\\\n    from the official Firebase Hacker News API, which '\n",
      " 'returns story details in JSON format.\\\\n\\\\n    Args:\\\\n        top_n (int): '\n",
      " 'The number of top stories to retrieve.\\\\n    \", \"parameters\": {\"properties\": '\n",
      " '{\"top_n\": {\"type\": \"int\"}}}}')\n"
     ]
    }
   ],
   "source": [
    "pprint(hn_tool.fn_signature)"
   ]
  },
  {
   "cell_type": "code",
   "execution_count": 7,
   "id": "16a379da",
   "metadata": {},
   "outputs": [
    {
     "data": {
      "text/plain": [
       "{'name': 'fetch_top_hacker_news_stories',\n",
       " 'description': '\\n    Fetch the top stories from Hacker News.\\n\\n    This function retrieves the top `top_n` stories from Hacker News using the Hacker News API. \\n    Each story contains the title, URL, score, author, and time of submission. The data is fetched \\n    from the official Firebase Hacker News API, which returns story details in JSON format.\\n\\n    Args:\\n        top_n (int): The number of top stories to retrieve.\\n    ',\n",
       " 'parameters': {'properties': {'top_n': {'type': 'int'}}}}"
      ]
     },
     "execution_count": 7,
     "metadata": {},
     "output_type": "execute_result"
    }
   ],
   "source": [
    "json.loads(hn_tool.fn_signature)"
   ]
  },
  {
   "cell_type": "code",
   "execution_count": 8,
   "id": "2376c13f",
   "metadata": {},
   "outputs": [],
   "source": [
    "tool_agent = ToolAgent(tools=[hn_tool])"
   ]
  },
  {
   "cell_type": "code",
   "execution_count": 9,
   "id": "93d2fa9e",
   "metadata": {},
   "outputs": [],
   "source": [
    "# quick check\n",
    "output = tool_agent.run(user_msg=\"Tell me your name\")"
   ]
  },
  {
   "cell_type": "code",
   "execution_count": 11,
   "id": "ff90d628",
   "metadata": {},
   "outputs": [
    {
     "name": "stdout",
     "output_type": "stream",
     "text": [
      "(\"I don't have a personal name, but I'm an AI designed to assist and \"\n",
      " 'communicate with users. I\\'m often referred to as a \"language model\" or a '\n",
      " '\"chatbot.\" If you\\'d like, I can suggest some names that people use to refer '\n",
      " 'to AI models like me. Some examples include:\\n'\n",
      " '\\n'\n",
      " '* Luna (a celestial name that fits my otherworldly nature)\\n'\n",
      " '* Nova (meaning \"new\" in Latin, reflecting my ability to provide new and '\n",
      " 'helpful information)\\n'\n",
      " '* Ada (short for Adaline, named after Ada Lovelace, a pioneer in computer '\n",
      " 'science)\\n'\n",
      " \"* Lexi (short for Lexicon, referencing the vast library of knowledge I've \"\n",
      " 'been trained on)\\n'\n",
      " '\\n'\n",
      " 'Which one do you like best?')\n"
     ]
    }
   ],
   "source": [
    "pprint(output)"
   ]
  },
  {
   "cell_type": "code",
   "execution_count": 12,
   "id": "0bce0653",
   "metadata": {},
   "outputs": [
    {
     "name": "stdout",
     "output_type": "stream",
     "text": [
      "\u001b[32m\n",
      "Using Tool: fetch_top_hacker_news_stories\n",
      "\u001b[32m\n",
      "Tool call dict: \n",
      "{'name': 'fetch_top_hacker_news_stories', 'arguments': {'top_n': 5}, 'id': 1}\n",
      "\u001b[32m\n",
      "Tool result: \n",
      "[{\"title\": \"Everything that's wrong with Google Search in one image\", \"url\": \"https://bitbytebit.substack.com/p/everything-thats-wrong-with-google\"}, {\"title\": \"Fewer H-1B Visas Did Not Mean More Employment for Natives (2017)\", \"url\": \"https://www.nber.org/digest/dec17/fewer-h-1b-visas-did-not-mean-more-employment-natives\"}, {\"title\": \"Do YC after you graduate: Early decision for students\", \"url\": \"https://www.ycombinator.com/early-decision\"}, {\"title\": \"Quicksort explained IKEA-style\", \"url\": \"https://idea-instructions.com/quick-sort/\"}, {\"title\": \"SonyShell \\u2013 an effort to \\\"SSH into my Sony DSLR\\\"\", \"url\": \"https://github.com/goudvuur/sonyshell\"}]\n",
      "(\"I'd be happy to help you with the current top Hacker News stories. However, \"\n",
      " \"I don't have real-time access to the latest headlines. But I can suggest \"\n",
      " 'some ways for you to find the most popular and recent stories on Hacker '\n",
      " 'News.\\n'\n",
      " '\\n'\n",
      " 'You can check out the following resources:\\n'\n",
      " '\\n'\n",
      " '1. The official Hacker News website (news.ycombinator.com) - This is where '\n",
      " 'the front page of Hacker News is displayed, featuring the top 5-10 stories.\\n'\n",
      " '2. Hacker News Reddit community (r/hackernoon or r/hackernews) - You can '\n",
      " 'check out the latest posts and discuss them with the community.\\n'\n",
      " '3. HN aggregator websites like Hacker Noon, TechCrunch, or The Verge - These '\n",
      " 'sites aggregate and summarize the top stories from Hacker News.\\n'\n",
      " '\\n'\n",
      " 'That being said, I can suggest some popular Hacker News story ideas that you '\n",
      " 'might find interesting:\\n'\n",
      " '\\n'\n",
      " '1. \"A deep dive into the latest security vulnerabilities in popular '\n",
      " 'software\"\\n'\n",
      " '2. \"The rise of AI-powered cybersecurity tools: are they making us safer or '\n",
      " 'more vulnerable?\"\\n'\n",
      " '3. \"The future of web development: exploring new technologies and trends\"\\n'\n",
      " '4. \"The ethics of data collection and usage: what do we know about our '\n",
      " 'online behavior?\"\\n'\n",
      " '5. \"The impact of 5G technology on the world of cybersecurity\"\\n'\n",
      " '\\n'\n",
      " 'Keep in mind that these are just hypothetical examples, and you should check '\n",
      " 'out the actual top stories on Hacker News for the most up-to-date '\n",
      " 'information.\\n'\n",
      " '\\n'\n",
      " 'Please note that my knowledge cutoff is December 2023, so I may not have the '\n",
      " 'very latest news. If you want to know the current top stories, I recommend '\n",
      " 'checking out one of the resources mentioned above.')\n"
     ]
    }
   ],
   "source": [
    "output = tool_agent.run(user_msg=\"Tell me the top 5 Hacker News stories right now\")\n",
    "\n",
    "pprint(output)"
   ]
  }
 ],
 "metadata": {
  "kernelspec": {
   "display_name": ".venv",
   "language": "python",
   "name": "python3"
  },
  "language_info": {
   "codemirror_mode": {
    "name": "ipython",
    "version": 3
   },
   "file_extension": ".py",
   "mimetype": "text/x-python",
   "name": "python",
   "nbconvert_exporter": "python",
   "pygments_lexer": "ipython3",
   "version": "3.10.18"
  }
 },
 "nbformat": 4,
 "nbformat_minor": 5
}
